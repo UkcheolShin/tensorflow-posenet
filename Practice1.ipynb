{
 "cells": [
  {
   "cell_type": "markdown",
   "metadata": {},
   "source": [
    "# Practice 1. PoseNet with KingCollege Dataset"
   ]
  },
  {
   "cell_type": "markdown",
   "metadata": {},
   "source": [
    "**1. Import required library**\n",
    "\n",
    " 필요한 라이브러리를 호출합니다."
   ]
  },
  {
   "cell_type": "code",
   "execution_count": 1,
   "metadata": {
    "scrolled": true
   },
   "outputs": [
    {
     "data": {
      "text/html": [
       "<style>.container { width:80% !important; }</style>"
      ],
      "text/plain": [
       "<IPython.core.display.HTML object>"
      ]
     },
     "metadata": {},
     "output_type": "display_data"
    }
   ],
   "source": [
    "import numpy as np\n",
    "import tensorflow as tf\n",
    "import matplotlib.pyplot as plt\n",
    "from posenet import GoogLeNet as PoseNet\n",
    "from utils import *\n",
    "from IPython.core.display import display, HTML\n",
    "display(HTML(\"<style>.container { width:80% !important; }</style>\"))\n"
   ]
  },
  {
   "cell_type": "markdown",
   "metadata": {},
   "source": [
    "**2. Set project directory & dataset path**\n",
    "\n",
    " 현재 작업 폴더 및 데이터셋에 대한 경로를 설정합니다."
   ]
  },
  {
   "cell_type": "code",
   "execution_count": 2,
   "metadata": {
    "scrolled": true
   },
   "outputs": [],
   "source": [
    "# Set this path to your project directory\n",
    "path = './'\n",
    "# Set this path to your dataset directory\n",
    "directory = './SK_VisualLocalization_Test_Dataset/KingsCollege/'\n",
    "dataset = 'dataset_test.txt'"
   ]
  },
  {
   "cell_type": "markdown",
   "metadata": {},
   "source": [
    "**3. Load test images**\n",
    "\n",
    " 작업에 필요한 이미지들을 읽어오고, 해당 이미지들을 네트워크에 넣어주기 전 필요한 Pre-processing을 수행합니다.\n",
    " PoseNet에 사용되는 네트워크는 GoogLeNet에 기반을 두고, GoogLeNet의 input의 경우, 224x224x3으로 고정되어 있기에,\n",
    " 이미지에 적용되는 Pre-processing은 이미지를 resize하고, 224x224로 center crop을 수행합니다. "
   ]
  },
  {
   "cell_type": "code",
   "execution_count": 3,
   "metadata": {
    "scrolled": true
   },
   "outputs": [
    {
     "name": "stderr",
     "output_type": "stream",
     "text": [
      "100%|██████████| 88/88 [00:02<00:00, 42.07it/s]\n",
      "100%|██████████| 88/88 [00:00<00:00, 4583.37it/s]\n",
      "100%|██████████| 88/88 [00:00<00:00, 2134.18it/s]\n"
     ]
    }
   ],
   "source": [
    "image = tf.placeholder(tf.float32, [1, 224, 224, 3])\n",
    "datasource = get_data(directory,dataset)\n",
    "results = np.zeros((len(datasource.images),2))"
   ]
  },
  {
   "cell_type": "markdown",
   "metadata": {},
   "source": [
    "**4. Construct network**\n",
    "\n",
    " PoseNet 네트워크에 대한 초기화 및 받아오고자 하는 출력 값을 설정하여 줍니다."
   ]
  },
  {
   "cell_type": "code",
   "execution_count": 4,
   "metadata": {
    "scrolled": true
   },
   "outputs": [],
   "source": [
    "net = PoseNet({'data': image})\n",
    "p3_x = net.layers['cls3_fc_pose_xyz']\n",
    "p3_q = net.layers['cls3_fc_pose_wpqr']"
   ]
  },
  {
   "cell_type": "code",
   "execution_count": 5,
   "metadata": {
    "scrolled": true
   },
   "outputs": [],
   "source": [
    "init = tf.global_variables_initializer()\n",
    "saver = tf.train.Saver()"
   ]
  },
  {
   "cell_type": "markdown",
   "metadata": {},
   "source": [
    "**5. Run the network & Evaluate the resutls**\n",
    "\n",
    " 생성된 PoseNet의 weight로서 pre-trained 된 weight를 읽어옵니다.\n",
    " 그 후, 데이터 셋에서 이미지를 하나씩 feed forward 시키고, 예측된 쿼터니언과 translation 결과를 출력합니다.\n",
    " GT 값과 예측된 결과 값들의 차이를 계산하고, 평가합니다."
   ]
  },
  {
   "cell_type": "code",
   "execution_count": 8,
   "metadata": {
    "scrolled": false
   },
   "outputs": [
    {
     "name": "stdout",
     "output_type": "stream",
     "text": [
      "INFO:tensorflow:Restoring parameters from ./PoseNet.ckpt\n",
      "Iteration:   0   Error XYZ (m):   0.6424339800250896   Error Q (degrees):   1.2776706156380992\n",
      "Iteration:   1   Error XYZ (m):   1.039880805290435   Error Q (degrees):   1.2096731150002449\n",
      "Iteration:   2   Error XYZ (m):   0.9150330057652817   Error Q (degrees):   2.505210651665462\n",
      "Iteration:   3   Error XYZ (m):   0.7027504920814905   Error Q (degrees):   0.8336224041958672\n",
      "Iteration:   4   Error XYZ (m):   0.9893679567226203   Error Q (degrees):   1.2682274925170431\n",
      "Iteration:   5   Error XYZ (m):   0.9877259051256221   Error Q (degrees):   1.478285996602877\n",
      "Iteration:   6   Error XYZ (m):   0.5095907341539136   Error Q (degrees):   0.9757542081768578\n",
      "Iteration:   7   Error XYZ (m):   0.3768473526420389   Error Q (degrees):   1.3709927138089368\n",
      "Iteration:   8   Error XYZ (m):   2.2978228214607306   Error Q (degrees):   3.0056066755482505\n",
      "Iteration:   9   Error XYZ (m):   0.8111898636074676   Error Q (degrees):   1.8685456478103608\n",
      "Iteration:   10   Error XYZ (m):   0.9549661133326168   Error Q (degrees):   2.2178975891850503\n",
      "Iteration:   11   Error XYZ (m):   1.2497970972794328   Error Q (degrees):   1.978425739730262\n",
      "Iteration:   12   Error XYZ (m):   0.5970464470527156   Error Q (degrees):   1.4201547118322897\n",
      "Iteration:   13   Error XYZ (m):   1.428325526330547   Error Q (degrees):   2.3553894468882266\n",
      "Iteration:   14   Error XYZ (m):   0.8126251385286701   Error Q (degrees):   2.153613892977092\n",
      "Iteration:   15   Error XYZ (m):   1.2835262152333131   Error Q (degrees):   2.1418216132487338\n",
      "Iteration:   16   Error XYZ (m):   1.0561415479998155   Error Q (degrees):   3.4971704489893267\n",
      "Iteration:   17   Error XYZ (m):   1.2231274450121055   Error Q (degrees):   2.5301323511945144\n",
      "Iteration:   18   Error XYZ (m):   0.9927551066634879   Error Q (degrees):   3.208213256426296\n",
      "Iteration:   19   Error XYZ (m):   0.6642848705061488   Error Q (degrees):   2.1201843863629297\n",
      "Iteration:   20   Error XYZ (m):   1.1383894347497219   Error Q (degrees):   3.085521707919429\n",
      "Iteration:   21   Error XYZ (m):   1.1491836565091214   Error Q (degrees):   2.2887213731560587\n",
      "Iteration:   22   Error XYZ (m):   0.8117784037839628   Error Q (degrees):   1.4710485229350967\n",
      "Iteration:   23   Error XYZ (m):   0.8175895265477171   Error Q (degrees):   1.4316364143911016\n",
      "Iteration:   24   Error XYZ (m):   2.518741904783698   Error Q (degrees):   4.41604838301238\n",
      "Iteration:   25   Error XYZ (m):   0.8496706270481144   Error Q (degrees):   2.2100106203019596\n",
      "Iteration:   26   Error XYZ (m):   1.3407368203322356   Error Q (degrees):   1.9416140823807286\n",
      "Iteration:   27   Error XYZ (m):   0.9060571961978767   Error Q (degrees):   2.1075281305560973\n",
      "Iteration:   28   Error XYZ (m):   0.7934493267190083   Error Q (degrees):   1.7431737492398613\n",
      "Iteration:   29   Error XYZ (m):   1.6896356356288234   Error Q (degrees):   2.114254749004874\n",
      "Iteration:   30   Error XYZ (m):   1.5621183507088934   Error Q (degrees):   2.337615918854207\n",
      "Iteration:   31   Error XYZ (m):   1.419820780556824   Error Q (degrees):   1.312207292597518\n",
      "Iteration:   32   Error XYZ (m):   0.9917732571150907   Error Q (degrees):   1.8844534872748266\n",
      "Iteration:   33   Error XYZ (m):   0.2966413434776939   Error Q (degrees):   2.2406784891199947\n",
      "Iteration:   34   Error XYZ (m):   0.9931040883749652   Error Q (degrees):   1.7452798308787505\n",
      "Iteration:   35   Error XYZ (m):   1.0932610786370274   Error Q (degrees):   2.6139802444581663\n",
      "Iteration:   36   Error XYZ (m):   0.32080031728331965   Error Q (degrees):   1.055068839077597\n",
      "Iteration:   37   Error XYZ (m):   0.9762968453102759   Error Q (degrees):   1.1165779394569209\n",
      "Iteration:   38   Error XYZ (m):   0.9314136771904206   Error Q (degrees):   1.7168613261736434\n",
      "Iteration:   39   Error XYZ (m):   0.9272475046560148   Error Q (degrees):   1.2869332865572796\n",
      "Iteration:   40   Error XYZ (m):   0.3893725151583285   Error Q (degrees):   2.794720600037171\n",
      "Iteration:   41   Error XYZ (m):   0.4298952322504315   Error Q (degrees):   0.5942724392733957\n",
      "Iteration:   42   Error XYZ (m):   1.2091857008438769   Error Q (degrees):   1.4645618849573618\n",
      "Iteration:   43   Error XYZ (m):   0.9270652900538721   Error Q (degrees):   1.2357646521533021\n",
      "Iteration:   44   Error XYZ (m):   0.815443107270708   Error Q (degrees):   1.1421557977984895\n",
      "Iteration:   45   Error XYZ (m):   0.7185885978859687   Error Q (degrees):   1.5787346805389184\n",
      "Iteration:   46   Error XYZ (m):   0.4363369101308148   Error Q (degrees):   0.40119019158758923\n",
      "Iteration:   47   Error XYZ (m):   0.5544560712976034   Error Q (degrees):   0.6598017121123994\n",
      "Iteration:   48   Error XYZ (m):   0.18744664750541923   Error Q (degrees):   1.2270263984239935\n",
      "Iteration:   49   Error XYZ (m):   0.21263945447915547   Error Q (degrees):   0.6697193399581415\n",
      "Iteration:   50   Error XYZ (m):   0.3548880150249872   Error Q (degrees):   0.8726132868949185\n",
      "Iteration:   51   Error XYZ (m):   0.47332183774347436   Error Q (degrees):   0.40690407628419745\n",
      "Iteration:   52   Error XYZ (m):   1.164833617693479   Error Q (degrees):   1.7074561991778092\n",
      "Iteration:   53   Error XYZ (m):   1.0863005980313896   Error Q (degrees):   1.0974309814680605\n",
      "Iteration:   54   Error XYZ (m):   2.136311518655912   Error Q (degrees):   3.3410494149793073\n",
      "Iteration:   55   Error XYZ (m):   1.1449572283074065   Error Q (degrees):   1.8356482579776758\n",
      "Iteration:   56   Error XYZ (m):   1.706809167865698   Error Q (degrees):   2.514696321172528\n",
      "Iteration:   57   Error XYZ (m):   1.2872384534220935   Error Q (degrees):   2.2883557749442183\n",
      "Iteration:   58   Error XYZ (m):   1.1438833325223126   Error Q (degrees):   1.743492768873553\n",
      "Iteration:   59   Error XYZ (m):   1.4025783424099634   Error Q (degrees):   1.4149577651425367\n",
      "Iteration:   60   Error XYZ (m):   1.5368361469147642   Error Q (degrees):   2.5282803959324918\n",
      "Iteration:   61   Error XYZ (m):   0.7780157650871133   Error Q (degrees):   1.4243607518878039\n",
      "Iteration:   62   Error XYZ (m):   2.8572285891876197   Error Q (degrees):   5.0079064861591\n",
      "Iteration:   63   Error XYZ (m):   1.7211153206619885   Error Q (degrees):   2.554261433530433\n",
      "Iteration:   64   Error XYZ (m):   1.3447945649521826   Error Q (degrees):   3.107027163417551\n",
      "Iteration:   65   Error XYZ (m):   0.5482626864560605   Error Q (degrees):   2.857509771153104\n",
      "Iteration:   66   Error XYZ (m):   0.7299504658193288   Error Q (degrees):   2.9587347779647653\n",
      "Iteration:   67   Error XYZ (m):   0.8611449876179981   Error Q (degrees):   2.4926303438604522\n",
      "Iteration:   68   Error XYZ (m):   1.4477383887721167   Error Q (degrees):   1.9360180639330307\n",
      "Iteration:   69   Error XYZ (m):   0.9745260038754778   Error Q (degrees):   2.0064815317124447\n",
      "Iteration:   70   Error XYZ (m):   1.0371682511966782   Error Q (degrees):   2.46032269027937\n",
      "Iteration:   71   Error XYZ (m):   2.5140171693101427   Error Q (degrees):   3.261409247581965\n",
      "Iteration:   72   Error XYZ (m):   1.3001998072881238   Error Q (degrees):   2.256954459468822\n",
      "Iteration:   73   Error XYZ (m):   1.954622275159013   Error Q (degrees):   1.6316895958703541\n",
      "Iteration:   74   Error XYZ (m):   1.3918077321735147   Error Q (degrees):   1.3917387778775945\n",
      "Iteration:   75   Error XYZ (m):   1.402040988018398   Error Q (degrees):   1.5829607324132433\n",
      "Iteration:   76   Error XYZ (m):   0.9923680085679678   Error Q (degrees):   1.5690008885429945\n",
      "Iteration:   77   Error XYZ (m):   1.8665882328311791   Error Q (degrees):   2.622007128966333\n",
      "Iteration:   78   Error XYZ (m):   1.6394394086428747   Error Q (degrees):   2.0411445111847257\n",
      "Iteration:   79   Error XYZ (m):   1.330946422671162   Error Q (degrees):   1.5048154268728569\n",
      "Iteration:   80   Error XYZ (m):   1.3465488488226471   Error Q (degrees):   1.7885396712083275\n",
      "Iteration:   81   Error XYZ (m):   0.42160052022215544   Error Q (degrees):   0.5563899160485192\n",
      "Iteration:   82   Error XYZ (m):   0.6686241309945006   Error Q (degrees):   0.4066533657258995\n",
      "Iteration:   83   Error XYZ (m):   0.8110638168946559   Error Q (degrees):   1.0710212699224344\n",
      "Iteration:   84   Error XYZ (m):   0.3889983339445726   Error Q (degrees):   1.3087924419018477\n",
      "Iteration:   85   Error XYZ (m):   0.6898535911822996   Error Q (degrees):   1.7359304801186999\n",
      "Iteration:   86   Error XYZ (m):   1.0278045772041302   Error Q (degrees):   2.222687401697402\n",
      "Iteration:   87   Error XYZ (m):   0.33276859295721034   Error Q (degrees):   2.0126735710089356\n",
      "Median error  0.9905706069188556 m  and  1.8120939645930016 degrees.\n"
     ]
    }
   ],
   "source": [
    "with tf.Session() as sess:\n",
    "\t# Load the data\n",
    "\tsess.run(init)\n",
    "\tsaver.restore(sess, path + 'PoseNet.ckpt')\n",
    "\tdata_gen = gen_data_batch(datasource)\n",
    "\tfor i in range(len(datasource.images)):\n",
    "\t\tnp_image = datasource.images[i]\n",
    "\t\tfeed = {image: np_image}\n",
    "        \n",
    "\t\tpose_q= np.asarray(datasource.poses[i][3:7])\n",
    "\t\tpose_x= np.asarray(datasource.poses[i][0:3])\n",
    "\n",
    "\t\tpredicted_x, predicted_q = sess.run([p3_x, p3_q], feed_dict=feed)\n",
    "\t\tpredicted_q = np.squeeze(predicted_q)\n",
    "\t\tpredicted_x = np.squeeze(predicted_x)\n",
    "\n",
    "        # convert quaternion to euler / display image and prediction results\n",
    "\t\t#predicted_euler = quaternion_to_euler(predicted_q[1],predicted_q[2],predicted_q[3],predicted_q[0])\n",
    "\t\t#plt.figure(figsize=(3,3))\n",
    "\t\t#plt.title(datasource.names[i])\n",
    "\t\t#plt.imshow(np.squeeze(datasource.images_cropped[i]))\n",
    "\t\t#print (datasource.names[i], ' Predicted_XYZ (m): ','[', format(predicted_x[0],\".2f\") , format(predicted_x[1],\".2f\") , format(predicted_x[2],\".2f\"), ' Predicted_Euler_XYZ (degrees): ','[', format(predicted_euler[0],\".2f\") , format(predicted_euler[1],\".2f\") , format(predicted_euler[2],\".2f\"), ']')\n",
    "\n",
    "\t\t#Compute Individual Sample Error between GT and Prediction\n",
    "\t\tq1 = pose_q / np.linalg.norm(pose_q)\n",
    "\t\tq2 = predicted_q / np.linalg.norm(predicted_q)\n",
    "\t\td = abs(np.sum(np.multiply(q1,q2)))\n",
    "\t\ttheta = 2 * np.arccos(d) * 180/math.pi\n",
    "\t\terror_x = np.linalg.norm(pose_x-predicted_x)\n",
    "\t\tresults[i,:] = [error_x,theta]\n",
    "\t\tprint ('Iteration:  ', i, '  Error XYZ (m):  ', error_x, '  Error Q (degrees):  ', theta)\n",
    "\n",
    "    #Compute Total Error\n",
    "\tmedian_result = np.median(results,axis=0)\n",
    "\tprint ('Median error ', median_result[0], 'm  and ', median_result[1], 'degrees.')\n",
    " "
   ]
  }
 ],
 "metadata": {
  "kernelspec": {
   "display_name": "[SK_Week4_sfm]",
   "language": "python",
   "name": "sk_week4_sfm"
  },
  "language_info": {
   "codemirror_mode": {
    "name": "ipython",
    "version": 3
   },
   "file_extension": ".py",
   "mimetype": "text/x-python",
   "name": "python",
   "nbconvert_exporter": "python",
   "pygments_lexer": "ipython3",
   "version": "3.6.7"
  }
 },
 "nbformat": 4,
 "nbformat_minor": 2
}
